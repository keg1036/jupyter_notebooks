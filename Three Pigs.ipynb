{
 "cells": [
  {
   "cell_type": "markdown",
   "metadata": {},
   "source": [
    "# Three Little Pigs"
   ]
  },
  {
   "cell_type": "code",
   "execution_count": null,
   "metadata": {},
   "outputs": [],
   "source": [
    "pigs_house = input('Please select a house to build: Straw, Stick or Brick   ')\n",
    "\n",
    " \n",
    "\n",
    "while pigs_house.lower() not in ['straw', 'stick', 'brick']:\n",
    "    if pigs_house.lower() not in ['straw', 'stick', 'brick']:\n",
    "        print('Not valid, please try again')\n",
    "    pigs_house = input('Please select a house to build: Straw, Stick or Brick   ')"
   ]
  },
  {
   "cell_type": "code",
   "execution_count": 3,
   "metadata": {},
   "outputs": [
    {
     "name": "stdout",
     "output_type": "stream",
     "text": [
      "4\n"
     ]
    }
   ],
   "source": [
    "from random import randrange\n",
    "print(randrange(10))"
   ]
  },
  {
   "cell_type": "code",
   "execution_count": 4,
   "metadata": {},
   "outputs": [],
   "source": [
    "player_score = 0\n"
   ]
  },
  {
   "cell_type": "code",
   "execution_count": null,
   "metadata": {},
   "outputs": [],
   "source": [
    "print(randrange(2))"
   ]
  },
  {
   "cell_type": "code",
   "execution_count": 2,
   "metadata": {},
   "outputs": [],
   "source": [
    "wolfs = {\n",
    "    'young': 6,\n",
    "    'old': 3,\n",
    "    'copd': 0 \n",
    "}\n",
    "\n",
    "houses ={\n",
    "    'straw':1,\n",
    "    'stick':4,\n",
    "    'brick':7\n",
    "}"
   ]
  },
  {
   "cell_type": "code",
   "execution_count": null,
   "metadata": {},
   "outputs": [],
   "source": [
    "wolfs"
   ]
  },
  {
   "cell_type": "code",
   "execution_count": null,
   "metadata": {},
   "outputs": [],
   "source": [
    "houses"
   ]
  },
  {
   "cell_type": "code",
   "execution_count": 6,
   "metadata": {},
   "outputs": [],
   "source": [
    "houses_up = True "
   ]
  },
  {
   "cell_type": "code",
   "execution_count": 1,
   "metadata": {},
   "outputs": [],
   "source": [
    "house_points = {\n",
    "    'straw':4,\n",
    "    'stick':2,\n",
    "    'brick':1\n",
    "}"
   ]
  },
  {
   "cell_type": "code",
   "execution_count": null,
   "metadata": {},
   "outputs": [
    {
     "name": "stdout",
     "output_type": "stream",
     "text": [
      "ready for round1. press enter to continue...straw\n",
      "along comes a old wolf!\n",
      "he huffs and he puffs and ...\n"
     ]
    }
   ],
   "source": [
    "i = 1\n",
    "\n",
    "\n",
    "while houses_up:\n",
    "    input('ready for round'+  str(i) + '. press enter to continue...')\n",
    "    \n",
    "    i += 1\n",
    "    current_wolf = list(wolfs.keys())[randrange(3)]\n",
    "    print('along comes a', current_wolf,'wolf!')\n",
    "    print('he huffs and he puffs and ...')\n",
    "\n",
    "if wolfs[current_wolf] > houses[house_points]:\n",
    "    houses_up = False \n",
    "    print('your' + houses + 'house is blown down')\n",
    "    \n",
    "\n",
    "else:\n",
    "    print('house still up')\n",
    "    \n",
    "    if houses.lower() == 'brick':\n",
    "        if randrange(10) > 8:\n",
    "            print('oh no! an earthquake! your brick house has been destoyed')\n",
    "            houses_up = False\n",
    "            \n",
    "    player_score += house_points[houses]\n",
    "print('game over! you have scored', player_score, 'points')"
   ]
  },
  {
   "cell_type": "code",
   "execution_count": null,
   "metadata": {},
   "outputs": [],
   "source": [
    "list(wolfs.keys())[randrange(3)]\n"
   ]
  },
  {
   "cell_type": "code",
   "execution_count": null,
   "metadata": {},
   "outputs": [],
   "source": []
  }
 ],
 "metadata": {
  "kernelspec": {
   "display_name": "Python 3",
   "language": "python",
   "name": "python3"
  },
  "language_info": {
   "codemirror_mode": {
    "name": "ipython",
    "version": 3
   },
   "file_extension": ".py",
   "mimetype": "text/x-python",
   "name": "python",
   "nbconvert_exporter": "python",
   "pygments_lexer": "ipython3",
   "version": "3.8.3"
  }
 },
 "nbformat": 4,
 "nbformat_minor": 4
}
